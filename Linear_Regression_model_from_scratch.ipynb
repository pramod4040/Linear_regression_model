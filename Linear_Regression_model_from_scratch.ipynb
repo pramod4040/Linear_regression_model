{
 "cells": [
  {
   "cell_type": "code",
   "execution_count": 8,
   "metadata": {},
   "outputs": [],
   "source": [
    "# import numpy as np\n",
    "# though i love numpy i am not using it here"
   ]
  },
  {
   "cell_type": "code",
   "execution_count": 9,
   "metadata": {},
   "outputs": [],
   "source": [
    "# this function is responsible for updating weight and bias.\n",
    "\n",
    "def update_w_and_b(spending, sales, w, b, alpha = 0.01):\n",
    "    dl_dw = 0.0\n",
    "    dl_db = 0.0\n",
    "    N = len(spending)\n",
    "    \n",
    "    for i in range(N):\n",
    "        dl_dw += -2*spending[i]*(sales[i]-(w * spending[i] + b))\n",
    "        dl_db += -2*(sales[i] - (w * spending[i] + b))\n",
    "        \n",
    "    w = w - (1/float(N))*dl_dw * alpha\n",
    "    b = b - (1/float(N))*dl_db * alpha\n",
    "    return w, b"
   ]
  },
  {
   "cell_type": "code",
   "execution_count": 10,
   "metadata": {},
   "outputs": [],
   "source": [
    "#calculate loss (it is used to show loss after each epoch, where we can see loss is decreasing)\n",
    "\n",
    "def avg_loss(spending, sales, w, b):\n",
    "    N = len(spending)\n",
    "    error = 0.0\n",
    "    for i in range(N):\n",
    "        error += (sales[i] - (w*spending[i] + b))**2\n",
    "    loss = (1/float(N)) / error\n",
    "    return loss"
   ]
  },
  {
   "cell_type": "code",
   "execution_count": 11,
   "metadata": {},
   "outputs": [],
   "source": [
    "#function which will train model (which is updating weight and bias to make better prediction)\n",
    "\n",
    "def train(spending, sales, w, b, alpha, epochs):\n",
    "    for e in range(epochs):\n",
    "        w,b = update_w_and_b(spending, sales, w, b, alpha)\n",
    "        print(\"Epoch: \", e ,\"Loss: \" , avg_loss(spending, sales, w, b))\n",
    "        \n",
    "    return w, b"
   ]
  },
  {
   "cell_type": "code",
   "execution_count": 12,
   "metadata": {},
   "outputs": [],
   "source": [
    "def predict(x, w, b):\n",
    "    y = w*x + b\n",
    "    return y"
   ]
  },
  {
   "cell_type": "code",
   "execution_count": 17,
   "metadata": {},
   "outputs": [
    {
     "name": "stdout",
     "output_type": "stream",
     "text": [
      "Epoch:  0 Loss:  0.00012683290698400917\n",
      "Epoch:  1 Loss:  2.583033580566965e-05\n",
      "Epoch:  2 Loss:  5.2429617105169855e-06\n",
      "133.6043278094375\n"
     ]
    }
   ],
   "source": [
    "#inputs (features)\n",
    "x = [20, 30, 40, 25, 50, 45, 60, 35]\n",
    "\n",
    "#outputs (labels)\n",
    "y = [1, 3, 5, 2, 7, 6, 8, 4]\n",
    "\n",
    "#(sending parameters features, labels, weight(w), bias(b), learning_rate, epochs)\n",
    "\n",
    "#epochs is number which tells how many time you wanna run whole dataset to update weight and bias. Higher epochs\n",
    "# will lead to overfitting.\n",
    "\n",
    "w, b = train(x, y, 0.0, 0.0, 0.001, 3)\n",
    "\n",
    "x_new = 90\n",
    "\n",
    "result = predict(x_new, w, b)\n",
    "print(result)\n"
   ]
  },
  {
   "cell_type": "code",
   "execution_count": null,
   "metadata": {},
   "outputs": [],
   "source": []
  }
 ],
 "metadata": {
  "kernelspec": {
   "display_name": "Python 3",
   "language": "python",
   "name": "python3"
  },
  "language_info": {
   "codemirror_mode": {
    "name": "ipython",
    "version": 3
   },
   "file_extension": ".py",
   "mimetype": "text/x-python",
   "name": "python",
   "nbconvert_exporter": "python",
   "pygments_lexer": "ipython3",
   "version": "3.6.9"
  }
 },
 "nbformat": 4,
 "nbformat_minor": 2
}
